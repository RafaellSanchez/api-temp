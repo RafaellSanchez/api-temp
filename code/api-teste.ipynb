{
 "cells": [
  {
   "cell_type": "code",
   "execution_count": 1,
   "metadata": {},
   "outputs": [],
   "source": [
    "import requests\n",
    "import pandas as pd\n",
    "import datetime"
   ]
  },
  {
   "cell_type": "code",
   "execution_count": 58,
   "metadata": {},
   "outputs": [
    {
     "data": {
      "text/plain": [
       "[{'name': {'common': 'Brazil',\n",
       "   'official': 'Federative Republic of Brazil',\n",
       "   'nativeName': {'por': {'official': 'República Federativa do Brasil',\n",
       "     'common': 'Brasil'}}},\n",
       "  'tld': ['.br'],\n",
       "  'cca2': 'BR',\n",
       "  'ccn3': '076',\n",
       "  'cca3': 'BRA',\n",
       "  'cioc': 'BRA',\n",
       "  'independent': True,\n",
       "  'status': 'officially-assigned',\n",
       "  'unMember': True,\n",
       "  'currencies': {'BRL': {'name': 'Brazilian real', 'symbol': 'R$'}},\n",
       "  'idd': {'root': '+5', 'suffixes': ['5']},\n",
       "  'capital': ['Brasília'],\n",
       "  'altSpellings': ['BR',\n",
       "   'Brasil',\n",
       "   'Federative Republic of Brazil',\n",
       "   'República Federativa do Brasil'],\n",
       "  'region': 'Americas',\n",
       "  'subregion': 'South America',\n",
       "  'languages': {'por': 'Portuguese'},\n",
       "  'translations': {'ara': {'official': 'جمهورية البرازيل الاتحادية',\n",
       "    'common': 'البرازيل'},\n",
       "   'bre': {'official': 'Republik Kevreel Brazil', 'common': 'Brazil'},\n",
       "   'ces': {'official': 'Brazilská federativní republika',\n",
       "    'common': 'Brazílie'},\n",
       "   'cym': {'official': 'Gweriniaeth Ffederal Brasil', 'common': 'Brasil'},\n",
       "   'deu': {'official': 'Föderative Republik Brasilien', 'common': 'Brasilien'},\n",
       "   'est': {'official': 'Brasiilia Liitvabariik', 'common': 'Brasiilia'},\n",
       "   'fin': {'official': 'Brasilian liittotasavalta', 'common': 'Brasilia'},\n",
       "   'fra': {'official': 'République fédérative du Brésil', 'common': 'Brésil'},\n",
       "   'hrv': {'official': 'Savezne Republike Brazil', 'common': 'Brazil'},\n",
       "   'hun': {'official': 'Brazil Szövetségi Köztársaság', 'common': 'Brazília'},\n",
       "   'ita': {'official': 'Repubblica federativa del Brasile',\n",
       "    'common': 'Brasile'},\n",
       "   'jpn': {'official': 'ブラジル連邦共和国', 'common': 'ブラジル'},\n",
       "   'kor': {'official': '브라질 연방 공화국', 'common': '브라질'},\n",
       "   'nld': {'official': 'Federale Republiek Brazilië', 'common': 'Brazilië'},\n",
       "   'per': {'official': 'جمهوری فدراتیو برزیل', 'common': 'برزیل'},\n",
       "   'pol': {'official': 'Federacyjna Republika Brazylii', 'common': 'Brazylia'},\n",
       "   'por': {'official': 'República Federativa do Brasil', 'common': 'Brasil'},\n",
       "   'rus': {'official': 'Федеративная Республика Бразилия',\n",
       "    'common': 'Бразилия'},\n",
       "   'slk': {'official': 'Brazílska federatívna republika',\n",
       "    'common': 'Brazília'},\n",
       "   'spa': {'official': 'República Federativa del Brasil', 'common': 'Brasil'},\n",
       "   'srp': {'official': 'Савезна Република Бразил', 'common': 'Бразил'},\n",
       "   'swe': {'official': 'Förbundsrepubliken Brasilien', 'common': 'Brasilien'},\n",
       "   'tur': {'official': 'Brezilya Federal Cumhuriyeti', 'common': 'Brezilya'},\n",
       "   'urd': {'official': 'وفاقی جمہوریہ برازیل', 'common': 'برازیل'},\n",
       "   'zho': {'official': '巴西联邦共和国', 'common': '巴西'}},\n",
       "  'latlng': [-10.0, -55.0],\n",
       "  'landlocked': False,\n",
       "  'borders': ['ARG',\n",
       "   'BOL',\n",
       "   'COL',\n",
       "   'GUF',\n",
       "   'GUY',\n",
       "   'PRY',\n",
       "   'PER',\n",
       "   'SUR',\n",
       "   'URY',\n",
       "   'VEN'],\n",
       "  'area': 8515767.0,\n",
       "  'demonyms': {'eng': {'f': 'Brazilian', 'm': 'Brazilian'},\n",
       "   'fra': {'f': 'Brésilienne', 'm': 'Brésilien'}},\n",
       "  'flag': '🇧🇷',\n",
       "  'maps': {'googleMaps': 'https://goo.gl/maps/waCKk21HeeqFzkNC9',\n",
       "   'openStreetMaps': 'https://www.openstreetmap.org/relation/59470'},\n",
       "  'population': 212559409,\n",
       "  'gini': {'2019': 53.4},\n",
       "  'fifa': 'BRA',\n",
       "  'car': {'signs': ['BR'], 'side': 'right'},\n",
       "  'timezones': ['UTC-05:00', 'UTC-04:00', 'UTC-03:00', 'UTC-02:00'],\n",
       "  'continents': ['South America'],\n",
       "  'flags': {'png': 'https://flagcdn.com/w320/br.png',\n",
       "   'svg': 'https://flagcdn.com/br.svg',\n",
       "   'alt': \"The flag of Brazil has a green field with a large yellow rhombus in the center. Within the rhombus is a dark blue globe with twenty-seven small five-pointed white stars depicting a starry sky and a thin white convex horizontal band inscribed with the national motto 'Ordem e Progresso' across its center.\"},\n",
       "  'coatOfArms': {'png': 'https://mainfacts.com/media/images/coats_of_arms/br.png',\n",
       "   'svg': 'https://mainfacts.com/media/images/coats_of_arms/br.svg'},\n",
       "  'startOfWeek': 'monday',\n",
       "  'capitalInfo': {'latlng': [-15.79, -47.88]},\n",
       "  'postalCode': {'format': '#####-###', 'regex': '^(\\\\d{8})$'}}]"
      ]
     },
     "metadata": {},
     "output_type": "display_data"
    }
   ],
   "source": [
    "name = 'Brazil'\n",
    "link = f'https://restcountries.com/v3.1/name/{name}'\n",
    "\n",
    "requisicao = requests.get(link)\n",
    "requisicao_js = requisicao.json()\n",
    "display(requisicao_js)"
   ]
  },
  {
   "cell_type": "code",
   "execution_count": null,
   "metadata": {},
   "outputs": [],
   "source": []
  },
  {
   "cell_type": "code",
   "execution_count": null,
   "metadata": {},
   "outputs": [],
   "source": [
    "'''\n",
    "API KEY TESTE\n",
    "\n",
    "https://api.openweathermap.org/data/3.0/onecall?lat=33.44&lon=-94.04&exclude=hourly,daily&appid={API key}\n",
    "'''"
   ]
  },
  {
   "cell_type": "code",
   "execution_count": 36,
   "metadata": {},
   "outputs": [],
   "source": [
    "api_key = '7d345b55e9fbcf6989728ab565b60c59'\n",
    "cidade = 'Mairiporã'\n",
    "# cidades = [\"Mairiporã\", \"São Paulo\", \"Atibaia\"]\n",
    "# link = f'https://api.openweathermap.org/data/3.0/onecall?lat=33.44&lon=-94.04&exclude=hourly,daily&appid={api_key}'\n",
    "link = f\"https://api.openweathermap.org/data/2.5/weather?q={cidade}&appid={api_key}&lang=pt_br\""
   ]
  },
  {
   "cell_type": "code",
   "execution_count": 40,
   "metadata": {},
   "outputs": [
    {
     "name": "stdout",
     "output_type": "stream",
     "text": [
      "Falha ao buscar dados!\n",
      "{\"cod\":\"404\",\"message\":\"city not found\"}\n",
      "Falha ao buscar dados!\n",
      "{\"cod\":\"404\",\"message\":\"city not found\"}\n",
      "Falha ao buscar dados!\n",
      "{\"cod\":\"404\",\"message\":\"city not found\"}\n"
     ]
    }
   ],
   "source": [
    "api_key = '7d345b55e9fbcf6989728ab565b60c59'\n",
    "cidades = [\"Mairiporã\", \"São Paulo\", \"Atibaia\"]\n",
    "\n",
    "for cidade in cidades:\n",
    "    link = f\"https://api.openweathermap.org/data/2.5/weather?q={cidades}&appid={api_key}&lang=pt_br\"\n",
    "    requisicao = requests.get(link)\n",
    "    \n",
    "    if requisicao.status_code == 200:\n",
    "        requisicao_js = requisicao.json()\n",
    "        print(f'Dados de : {cidade}')\n",
    "        print(requisicao_js)\n",
    "        \n",
    "    else:\n",
    "        print(f'Falha ao buscar dados!')\n",
    "        print(requisicao.text)"
   ]
  },
  {
   "cell_type": "code",
   "execution_count": 37,
   "metadata": {},
   "outputs": [],
   "source": [
    "requisicao = requests.get(link)\n",
    "requisicao_js = requisicao.json()"
   ]
  },
  {
   "cell_type": "code",
   "execution_count": 38,
   "metadata": {},
   "outputs": [
    {
     "data": {
      "text/plain": [
       "{'coord': {'lon': -46.5867, 'lat': -23.3186},\n",
       " 'weather': [{'id': 803,\n",
       "   'main': 'Clouds',\n",
       "   'description': 'nublado',\n",
       "   'icon': '04d'}],\n",
       " 'base': 'stations',\n",
       " 'main': {'temp': 296.89,\n",
       "  'feels_like': 297.1,\n",
       "  'temp_min': 296.14,\n",
       "  'temp_max': 300.47,\n",
       "  'pressure': 1013,\n",
       "  'humidity': 68},\n",
       " 'visibility': 10000,\n",
       " 'wind': {'speed': 7.2, 'deg': 60},\n",
       " 'clouds': {'all': 75},\n",
       " 'dt': 1702988562,\n",
       " 'sys': {'type': 1,\n",
       "  'id': 8379,\n",
       "  'country': 'BR',\n",
       "  'sunrise': 1702973776,\n",
       "  'sunset': 1703022621},\n",
       " 'timezone': -10800,\n",
       " 'id': 3458131,\n",
       " 'name': 'Mairiporã',\n",
       " 'cod': 200}"
      ]
     },
     "metadata": {},
     "output_type": "display_data"
    }
   ],
   "source": [
    "display(requisicao_js)"
   ]
  }
 ],
 "metadata": {
  "kernelspec": {
   "display_name": "Python 3",
   "language": "python",
   "name": "python3"
  },
  "language_info": {
   "codemirror_mode": {
    "name": "ipython",
    "version": 3
   },
   "file_extension": ".py",
   "mimetype": "text/x-python",
   "name": "python",
   "nbconvert_exporter": "python",
   "pygments_lexer": "ipython3",
   "version": "3.10.13"
  }
 },
 "nbformat": 4,
 "nbformat_minor": 2
}
