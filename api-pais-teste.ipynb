{
 "cells": [
  {
   "cell_type": "code",
   "execution_count": 5,
   "metadata": {},
   "outputs": [],
   "source": [
    "import requests\n",
    "import json\n",
    "from datetime import datetime\n",
    "import pandas as pd"
   ]
  },
  {
   "cell_type": "code",
   "execution_count": 50,
   "metadata": {},
   "outputs": [],
   "source": [
    "# name = 'USA'\n",
    "name = 'Brazil'\n",
    "link = f'https://restcountries.com/v3.1/name/{name}'\n",
    "\n",
    "requisicao = requests.get(link)\n",
    "requisicao_js = requisicao.json()"
   ]
  },
  {
   "cell_type": "code",
   "execution_count": 51,
   "metadata": {},
   "outputs": [
    {
     "data": {
      "text/plain": [
       "[{'name': {'common': 'Brazil',\n",
       "   'official': 'Federative Republic of Brazil',\n",
       "   'nativeName': {'por': {'official': 'República Federativa do Brasil',\n",
       "     'common': 'Brasil'}}},\n",
       "  'tld': ['.br'],\n",
       "  'cca2': 'BR',\n",
       "  'ccn3': '076',\n",
       "  'cca3': 'BRA',\n",
       "  'cioc': 'BRA',\n",
       "  'independent': True,\n",
       "  'status': 'officially-assigned',\n",
       "  'unMember': True,\n",
       "  'currencies': {'BRL': {'name': 'Brazilian real', 'symbol': 'R$'}},\n",
       "  'idd': {'root': '+5', 'suffixes': ['5']},\n",
       "  'capital': ['Brasília'],\n",
       "  'altSpellings': ['BR',\n",
       "   'Brasil',\n",
       "   'Federative Republic of Brazil',\n",
       "   'República Federativa do Brasil'],\n",
       "  'region': 'Americas',\n",
       "  'subregion': 'South America',\n",
       "  'languages': {'por': 'Portuguese'},\n",
       "  'translations': {'ara': {'official': 'جمهورية البرازيل الاتحادية',\n",
       "    'common': 'البرازيل'},\n",
       "   'bre': {'official': 'Republik Kevreel Brazil', 'common': 'Brazil'},\n",
       "   'ces': {'official': 'Brazilská federativní republika',\n",
       "    'common': 'Brazílie'},\n",
       "   'cym': {'official': 'Gweriniaeth Ffederal Brasil', 'common': 'Brasil'},\n",
       "   'deu': {'official': 'Föderative Republik Brasilien', 'common': 'Brasilien'},\n",
       "   'est': {'official': 'Brasiilia Liitvabariik', 'common': 'Brasiilia'},\n",
       "   'fin': {'official': 'Brasilian liittotasavalta', 'common': 'Brasilia'},\n",
       "   'fra': {'official': 'République fédérative du Brésil', 'common': 'Brésil'},\n",
       "   'hrv': {'official': 'Savezne Republike Brazil', 'common': 'Brazil'},\n",
       "   'hun': {'official': 'Brazil Szövetségi Köztársaság', 'common': 'Brazília'},\n",
       "   'ita': {'official': 'Repubblica federativa del Brasile',\n",
       "    'common': 'Brasile'},\n",
       "   'jpn': {'official': 'ブラジル連邦共和国', 'common': 'ブラジル'},\n",
       "   'kor': {'official': '브라질 연방 공화국', 'common': '브라질'},\n",
       "   'nld': {'official': 'Federale Republiek Brazilië', 'common': 'Brazilië'},\n",
       "   'per': {'official': 'جمهوری فدراتیو برزیل', 'common': 'برزیل'},\n",
       "   'pol': {'official': 'Federacyjna Republika Brazylii', 'common': 'Brazylia'},\n",
       "   'por': {'official': 'República Federativa do Brasil', 'common': 'Brasil'},\n",
       "   'rus': {'official': 'Федеративная Республика Бразилия',\n",
       "    'common': 'Бразилия'},\n",
       "   'slk': {'official': 'Brazílska federatívna republika',\n",
       "    'common': 'Brazília'},\n",
       "   'spa': {'official': 'República Federativa del Brasil', 'common': 'Brasil'},\n",
       "   'srp': {'official': 'Савезна Република Бразил', 'common': 'Бразил'},\n",
       "   'swe': {'official': 'Förbundsrepubliken Brasilien', 'common': 'Brasilien'},\n",
       "   'tur': {'official': 'Brezilya Federal Cumhuriyeti', 'common': 'Brezilya'},\n",
       "   'urd': {'official': 'وفاقی جمہوریہ برازیل', 'common': 'برازیل'},\n",
       "   'zho': {'official': '巴西联邦共和国', 'common': '巴西'}},\n",
       "  'latlng': [-10.0, -55.0],\n",
       "  'landlocked': False,\n",
       "  'borders': ['ARG',\n",
       "   'BOL',\n",
       "   'COL',\n",
       "   'GUF',\n",
       "   'GUY',\n",
       "   'PRY',\n",
       "   'PER',\n",
       "   'SUR',\n",
       "   'URY',\n",
       "   'VEN'],\n",
       "  'area': 8515767.0,\n",
       "  'demonyms': {'eng': {'f': 'Brazilian', 'm': 'Brazilian'},\n",
       "   'fra': {'f': 'Brésilienne', 'm': 'Brésilien'}},\n",
       "  'flag': '🇧🇷',\n",
       "  'maps': {'googleMaps': 'https://goo.gl/maps/waCKk21HeeqFzkNC9',\n",
       "   'openStreetMaps': 'https://www.openstreetmap.org/relation/59470'},\n",
       "  'population': 212559409,\n",
       "  'gini': {'2019': 53.4},\n",
       "  'fifa': 'BRA',\n",
       "  'car': {'signs': ['BR'], 'side': 'right'},\n",
       "  'timezones': ['UTC-05:00', 'UTC-04:00', 'UTC-03:00', 'UTC-02:00'],\n",
       "  'continents': ['South America'],\n",
       "  'flags': {'png': 'https://flagcdn.com/w320/br.png',\n",
       "   'svg': 'https://flagcdn.com/br.svg',\n",
       "   'alt': \"The flag of Brazil has a green field with a large yellow rhombus in the center. Within the rhombus is a dark blue globe with twenty-seven small five-pointed white stars depicting a starry sky and a thin white convex horizontal band inscribed with the national motto 'Ordem e Progresso' across its center.\"},\n",
       "  'coatOfArms': {'png': 'https://mainfacts.com/media/images/coats_of_arms/br.png',\n",
       "   'svg': 'https://mainfacts.com/media/images/coats_of_arms/br.svg'},\n",
       "  'startOfWeek': 'monday',\n",
       "  'capitalInfo': {'latlng': [-15.79, -47.88]},\n",
       "  'postalCode': {'format': '#####-###', 'regex': '^(\\\\d{8})$'}}]"
      ]
     },
     "metadata": {},
     "output_type": "display_data"
    }
   ],
   "source": [
    "display(requisicao_js)"
   ]
  },
  {
   "cell_type": "code",
   "execution_count": 55,
   "metadata": {},
   "outputs": [
    {
     "name": "stdout",
     "output_type": "stream",
     "text": [
      "{'BRL': {'name': 'Brazilian real', 'symbol': 'R$'}}\n"
     ]
    }
   ],
   "source": [
    "teste = requisicao_js[0]['currencies']\n",
    "print(teste)"
   ]
  },
  {
   "cell_type": "code",
   "execution_count": 56,
   "metadata": {},
   "outputs": [],
   "source": [
    "pais = requisicao_js[0]['name']['common']\n",
    "capital = requisicao_js[0]['capital']\n",
    "idioma = requisicao_js[0]['languages']\n",
    "moeda = requisicao_js[0]['currencies']\n",
    "populacao = requisicao_js[0]['population']\n",
    "regiao = requisicao_js[0]['region']\n",
    "timezones = requisicao_js[0]['timezones']\n",
    "area = requisicao_js[0]['area']"
   ]
  },
  {
   "cell_type": "code",
   "execution_count": 57,
   "metadata": {},
   "outputs": [
    {
     "name": "stdout",
     "output_type": "stream",
     "text": [
      "dados_Brazil_20231225.txt\n"
     ]
    }
   ],
   "source": [
    "timestamp = datetime.now().strftime('%Y%m%d')\n",
    "upg_pais = pais.replace(\" \", \"_\")\n",
    "new_file = f'dados_{upg_pais}_{timestamp}.txt'\n",
    "print(new_file)"
   ]
  },
  {
   "cell_type": "code",
   "execution_count": 58,
   "metadata": {},
   "outputs": [
    {
     "name": "stdout",
     "output_type": "stream",
     "text": [
      "Arquivo salvo!\n"
     ]
    }
   ],
   "source": [
    "timestamp = datetime.now().strftime('%Y%m%d')\n",
    "# file = f'teste_api_{timestamp}.txt'\n",
    "path = '/workspaces/api-temp/dados/'\n",
    "\n",
    "destino = path + new_file\n",
    "\n",
    "try:\n",
    "    with open(destino, 'w') as arq:\n",
    "        print(\"INFO DO PAIS\", file=arq)\n",
    "        print(\"-------------\", file=arq)\n",
    "        print(f\"Pais: {pais}\", file=arq)\n",
    "        print(f\"Capital: {capital}\", file=arq)\n",
    "        print(f\"Idioma: {idioma}\", file=arq)\n",
    "        print(f\"Moeda: {moeda}\", file=arq)\n",
    "        print(f'População: {populacao}', file=arq)\n",
    "        print(f'Região: {regiao}', file=arq)\n",
    "        print(f'Time Zones: {timezones}', file=arq)\n",
    "        print(f'Area: {area}', file=arq)\n",
    "        print(\"            \", file=arq)\n",
    "        print(\"------------\", file=arq)\n",
    "        print('Arquivo salvo!')\n",
    "        \n",
    "except FileNotFoundError as error:\n",
    "    print(f'Erro: {error}')\n"
   ]
  },
  {
   "cell_type": "code",
   "execution_count": 87,
   "metadata": {},
   "outputs": [
    {
     "name": "stdout",
     "output_type": "stream",
     "text": [
      "                                                            0\n",
      "Pais                                                   Brazil\n",
      "Capital                                          ['Brasília']\n",
      "Idioma                                  {'por': 'Portuguese'}\n",
      "Moeda       {'BRL': {'name': 'Brazilian real', 'symbol': '...\n",
      "População                                           212559409\n",
      "Região                                               Americas\n",
      "Time Zones  ['UTC-05:00', 'UTC-04:00', 'UTC-03:00', 'UTC-0...\n",
      "Area                                                8515767.0\n"
     ]
    }
   ],
   "source": [
    "import pandas as pd\n",
    "\n",
    "# Lendo o arquivo diretamente com o pandas\n",
    "file_path = '/workspaces/api-temp/dados/dados_Brazil_20231225.txt'\n",
    "with open(file_path, 'r') as file:\n",
    "    lines = file.readlines()\n",
    "\n",
    "# Removendo quebras de linha e linhas vazias\n",
    "lines = [line.strip() for line in lines if line.strip()]\n",
    "\n",
    "# Criando um dicionário para os dados\n",
    "data = {}\n",
    "current_key = None\n",
    "\n",
    "for line in lines:\n",
    "    if line == 'INFO DO PAIS' or line == '------------':\n",
    "        continue\n",
    "    elif ':' in line:\n",
    "        key, value = line.split(': ', 1)\n",
    "        data[key] = [value]\n",
    "        current_key = key\n",
    "    elif current_key:\n",
    "        data[current_key].append(line)\n",
    "\n",
    "# Preenchendo valores ausentes com vazio para garantir que todos tenham o mesmo comprimento\n",
    "max_len = max(len(val) for val in data.values())\n",
    "for key in data:\n",
    "    data[key] += [''] * (max_len - len(data[key]))\n",
    "\n",
    "# Criando o DataFrame diretamente com o pandas\n",
    "df = pd.DataFrame(data)\n",
    "\n",
    "# Transpondo o DataFrame para ter as colunas na horizontal\n",
    "df = df.transpose()\n",
    "\n",
    "print(df)\n"
   ]
  },
  {
   "cell_type": "code",
   "execution_count": 88,
   "metadata": {},
   "outputs": [
    {
     "ename": "KeyError",
     "evalue": "'INFO DO PAIS'",
     "output_type": "error",
     "traceback": [
      "\u001b[0;31m---------------------------------------------------------------------------\u001b[0m",
      "\u001b[0;31mKeyError\u001b[0m                                  Traceback (most recent call last)",
      "Cell \u001b[0;32mIn[88], line 2\u001b[0m\n\u001b[1;32m      1\u001b[0m \u001b[38;5;66;03m# Separar as informações antes e depois dos dois pontos\u001b[39;00m\n\u001b[0;32m----> 2\u001b[0m df[[\u001b[38;5;124m'\u001b[39m\u001b[38;5;124mKey\u001b[39m\u001b[38;5;124m'\u001b[39m, \u001b[38;5;124m'\u001b[39m\u001b[38;5;124mValue\u001b[39m\u001b[38;5;124m'\u001b[39m]] \u001b[38;5;241m=\u001b[39m \u001b[43mdf\u001b[49m\u001b[43m[\u001b[49m\u001b[38;5;124;43m'\u001b[39;49m\u001b[38;5;124;43mINFO DO PAIS\u001b[39;49m\u001b[38;5;124;43m'\u001b[39;49m\u001b[43m]\u001b[49m\u001b[38;5;241m.\u001b[39mstr\u001b[38;5;241m.\u001b[39msplit(\u001b[38;5;124m'\u001b[39m\u001b[38;5;124m: \u001b[39m\u001b[38;5;124m'\u001b[39m, \u001b[38;5;241m1\u001b[39m, expand\u001b[38;5;241m=\u001b[39m\u001b[38;5;28;01mTrue\u001b[39;00m)\n\u001b[1;32m      4\u001b[0m \u001b[38;5;66;03m# Remover a linha de separação e a coluna \"INFO DO PAIS\" original\u001b[39;00m\n\u001b[1;32m      5\u001b[0m df \u001b[38;5;241m=\u001b[39m df[df[\u001b[38;5;124m'\u001b[39m\u001b[38;5;124mKey\u001b[39m\u001b[38;5;124m'\u001b[39m] \u001b[38;5;241m!=\u001b[39m \u001b[38;5;124m'\u001b[39m\u001b[38;5;124m-------------\u001b[39m\u001b[38;5;124m'\u001b[39m]\n",
      "File \u001b[0;32m~/.local/lib/python3.10/site-packages/pandas/core/frame.py:3893\u001b[0m, in \u001b[0;36mDataFrame.__getitem__\u001b[0;34m(self, key)\u001b[0m\n\u001b[1;32m   3891\u001b[0m \u001b[38;5;28;01mif\u001b[39;00m \u001b[38;5;28mself\u001b[39m\u001b[38;5;241m.\u001b[39mcolumns\u001b[38;5;241m.\u001b[39mnlevels \u001b[38;5;241m>\u001b[39m \u001b[38;5;241m1\u001b[39m:\n\u001b[1;32m   3892\u001b[0m     \u001b[38;5;28;01mreturn\u001b[39;00m \u001b[38;5;28mself\u001b[39m\u001b[38;5;241m.\u001b[39m_getitem_multilevel(key)\n\u001b[0;32m-> 3893\u001b[0m indexer \u001b[38;5;241m=\u001b[39m \u001b[38;5;28;43mself\u001b[39;49m\u001b[38;5;241;43m.\u001b[39;49m\u001b[43mcolumns\u001b[49m\u001b[38;5;241;43m.\u001b[39;49m\u001b[43mget_loc\u001b[49m\u001b[43m(\u001b[49m\u001b[43mkey\u001b[49m\u001b[43m)\u001b[49m\n\u001b[1;32m   3894\u001b[0m \u001b[38;5;28;01mif\u001b[39;00m is_integer(indexer):\n\u001b[1;32m   3895\u001b[0m     indexer \u001b[38;5;241m=\u001b[39m [indexer]\n",
      "File \u001b[0;32m~/.local/lib/python3.10/site-packages/pandas/core/indexes/range.py:418\u001b[0m, in \u001b[0;36mRangeIndex.get_loc\u001b[0;34m(self, key)\u001b[0m\n\u001b[1;32m    416\u001b[0m         \u001b[38;5;28;01mraise\u001b[39;00m \u001b[38;5;167;01mKeyError\u001b[39;00m(key) \u001b[38;5;28;01mfrom\u001b[39;00m \u001b[38;5;21;01merr\u001b[39;00m\n\u001b[1;32m    417\u001b[0m \u001b[38;5;28;01mif\u001b[39;00m \u001b[38;5;28misinstance\u001b[39m(key, Hashable):\n\u001b[0;32m--> 418\u001b[0m     \u001b[38;5;28;01mraise\u001b[39;00m \u001b[38;5;167;01mKeyError\u001b[39;00m(key)\n\u001b[1;32m    419\u001b[0m \u001b[38;5;28mself\u001b[39m\u001b[38;5;241m.\u001b[39m_check_indexing_error(key)\n\u001b[1;32m    420\u001b[0m \u001b[38;5;28;01mraise\u001b[39;00m \u001b[38;5;167;01mKeyError\u001b[39;00m(key)\n",
      "\u001b[0;31mKeyError\u001b[0m: 'INFO DO PAIS'"
     ]
    }
   ],
   "source": [
    "# Separar as informações antes e depois dos dois pontos\n",
    "df[['Key', 'Value']] = df['INFO DO PAIS'].str.split(': ', 1, expand=True)\n",
    "\n",
    "# Remover a linha de separação e a coluna \"INFO DO PAIS\" original\n",
    "df = df[df['Key'] != '-------------']\n",
    "df = df.drop(columns='INFO DO PAIS')\n",
    "\n",
    "# Pivotar as informações para transformar as chaves em colunas\n",
    "df_pivoted = df.pivot(columns='Key', values='Value').fillna('')\n",
    "\n",
    "print(df_pivoted)\n"
   ]
  },
  {
   "cell_type": "code",
   "execution_count": 89,
   "metadata": {},
   "outputs": [
    {
     "data": {
      "text/html": [
       "<div>\n",
       "<style scoped>\n",
       "    .dataframe tbody tr th:only-of-type {\n",
       "        vertical-align: middle;\n",
       "    }\n",
       "\n",
       "    .dataframe tbody tr th {\n",
       "        vertical-align: top;\n",
       "    }\n",
       "\n",
       "    .dataframe thead th {\n",
       "        text-align: right;\n",
       "    }\n",
       "</style>\n",
       "<table border=\"1\" class=\"dataframe\">\n",
       "  <thead>\n",
       "    <tr style=\"text-align: right;\">\n",
       "      <th></th>\n",
       "      <th>INFO DO PAIS</th>\n",
       "    </tr>\n",
       "  </thead>\n",
       "  <tbody>\n",
       "    <tr>\n",
       "      <th>0</th>\n",
       "      <td>-------------</td>\n",
       "    </tr>\n",
       "    <tr>\n",
       "      <th>1</th>\n",
       "      <td>Pais: Brazil</td>\n",
       "    </tr>\n",
       "    <tr>\n",
       "      <th>2</th>\n",
       "      <td>Capital: ['Brasília']</td>\n",
       "    </tr>\n",
       "    <tr>\n",
       "      <th>3</th>\n",
       "      <td>Idioma: {'por': 'Portuguese'}</td>\n",
       "    </tr>\n",
       "    <tr>\n",
       "      <th>4</th>\n",
       "      <td>Moeda: {'BRL': {'name': 'Brazilian real', 'sym...</td>\n",
       "    </tr>\n",
       "    <tr>\n",
       "      <th>5</th>\n",
       "      <td>População: 212559409</td>\n",
       "    </tr>\n",
       "    <tr>\n",
       "      <th>6</th>\n",
       "      <td>Região: Americas</td>\n",
       "    </tr>\n",
       "    <tr>\n",
       "      <th>7</th>\n",
       "      <td>Time Zones: ['UTC-05:00', 'UTC-04:00', 'UTC-03...</td>\n",
       "    </tr>\n",
       "    <tr>\n",
       "      <th>8</th>\n",
       "      <td>Area: 8515767.0</td>\n",
       "    </tr>\n",
       "    <tr>\n",
       "      <th>9</th>\n",
       "      <td>------------</td>\n",
       "    </tr>\n",
       "  </tbody>\n",
       "</table>\n",
       "</div>"
      ],
      "text/plain": [
       "                                        INFO DO PAIS\n",
       "0                                      -------------\n",
       "1                                       Pais: Brazil\n",
       "2                              Capital: ['Brasília']\n",
       "3                      Idioma: {'por': 'Portuguese'}\n",
       "4  Moeda: {'BRL': {'name': 'Brazilian real', 'sym...\n",
       "5                               População: 212559409\n",
       "6                                   Região: Americas\n",
       "7  Time Zones: ['UTC-05:00', 'UTC-04:00', 'UTC-03...\n",
       "8                                    Area: 8515767.0\n",
       "9                                       ------------"
      ]
     },
     "metadata": {},
     "output_type": "display_data"
    },
    {
     "name": "stdout",
     "output_type": "stream",
     "text": [
      "DataFrame original:\n",
      "               0             1                      2  \\\n",
      "0  -------------  Pais: Brazil  Capital: ['Brasília']   \n",
      "\n",
      "                               3  \\\n",
      "0  Idioma: {'por': 'Portuguese'}   \n",
      "\n",
      "                                                   4                     5  \\\n",
      "0  Moeda: {'BRL': {'name': 'Brazilian real', 'sym...  População: 212559409   \n",
      "\n",
      "                  6                                                  7  \\\n",
      "0  Região: Americas  Time Zones: ['UTC-05:00', 'UTC-04:00', 'UTC-03...   \n",
      "\n",
      "                 8             9  \n",
      "0  Area: 8515767.0  ------------  \n",
      "\n",
      "DataFrame com informações pivoteadas:\n",
      "0  0                                      -------------\n",
      "0  1                                       Pais: Brazil\n",
      "1  2                              Capital: ['Brasília']\n",
      "2  3                      Idioma: {'por': 'Portuguese'}\n",
      "3  4  Moeda: {'BRL': {'name': 'Brazilian real', 'sym...\n",
      "4  5                               População: 212559409\n",
      "5  6                                   Região: Americas\n",
      "6  7  Time Zones: ['UTC-05:00', 'UTC-04:00', 'UTC-03...\n",
      "7  8                                    Area: 8515767.0\n",
      "8  9                                       ------------\n"
     ]
    }
   ],
   "source": [
    "arquivo = '/workspaces/api-temp/dados/dados_Brazil_20231225.txt'\n",
    "delimitador = '{'\n",
    "\n",
    "df = pd.read_csv(arquivo, engine='python', sep= '\\t')\n",
    "display(df)\n",
    "\n",
    "\n",
    "\n",
    "# Converter o dicionário em um DataFrame\n",
    "df = pd.DataFrame(df).transpose()\n",
    "\n",
    "# Resetar o índice para garantir que os índices sejam numéricos\n",
    "df.reset_index(drop=True, inplace=True)\n",
    "\n",
    "# Mostrar o DataFrame antes da transformação\n",
    "print(\"DataFrame original:\")\n",
    "print(df)\n",
    "\n",
    "# Pivotar o DataFrame\n",
    "df_pivoted = df.transpose().reset_index()\n",
    "\n",
    "# Renomear as colunas\n",
    "df_pivoted.columns = df_pivoted.iloc[0]\n",
    "df_pivoted = df_pivoted.drop(0)\n",
    "\n",
    "# Resetar o índice\n",
    "df_pivoted.reset_index(drop=True, inplace=True)\n",
    "\n",
    "# Mostrar o DataFrame após a transformação\n",
    "print(\"\\nDataFrame com informações pivoteadas:\")\n",
    "print(df_pivoted)\n",
    "\n",
    "# df = pd.read_csv(arquivo, engine='python', header=None)\n",
    "# print(df)\n",
    "\n",
    "\n",
    "# with open(arquivo, 'r') as f:\n",
    "#     leitura = f.readlines()\n",
    "#     print(leitura)\n",
    "    "
   ]
  },
  {
   "cell_type": "code",
   "execution_count": 90,
   "metadata": {},
   "outputs": [
    {
     "data": {
      "text/html": [
       "<div>\n",
       "<style scoped>\n",
       "    .dataframe tbody tr th:only-of-type {\n",
       "        vertical-align: middle;\n",
       "    }\n",
       "\n",
       "    .dataframe tbody tr th {\n",
       "        vertical-align: top;\n",
       "    }\n",
       "\n",
       "    .dataframe thead th {\n",
       "        text-align: right;\n",
       "    }\n",
       "</style>\n",
       "<table border=\"1\" class=\"dataframe\">\n",
       "  <thead>\n",
       "    <tr style=\"text-align: right;\">\n",
       "      <th></th>\n",
       "      <th>0</th>\n",
       "      <th>1</th>\n",
       "      <th>2</th>\n",
       "      <th>3</th>\n",
       "      <th>4</th>\n",
       "      <th>5</th>\n",
       "      <th>6</th>\n",
       "      <th>7</th>\n",
       "      <th>8</th>\n",
       "      <th>9</th>\n",
       "    </tr>\n",
       "  </thead>\n",
       "  <tbody>\n",
       "    <tr>\n",
       "      <th>0</th>\n",
       "      <td>-------------</td>\n",
       "      <td>Pais: Brazil</td>\n",
       "      <td>Capital: ['Brasília']</td>\n",
       "      <td>Idioma: {'por': 'Portuguese'}</td>\n",
       "      <td>Moeda: {'BRL': {'name': 'Brazilian real', 'sym...</td>\n",
       "      <td>População: 212559409</td>\n",
       "      <td>Região: Americas</td>\n",
       "      <td>Time Zones: ['UTC-05:00', 'UTC-04:00', 'UTC-03...</td>\n",
       "      <td>Area: 8515767.0</td>\n",
       "      <td>------------</td>\n",
       "    </tr>\n",
       "  </tbody>\n",
       "</table>\n",
       "</div>"
      ],
      "text/plain": [
       "               0             1                      2  \\\n",
       "0  -------------  Pais: Brazil  Capital: ['Brasília']   \n",
       "\n",
       "                               3  \\\n",
       "0  Idioma: {'por': 'Portuguese'}   \n",
       "\n",
       "                                                   4                     5  \\\n",
       "0  Moeda: {'BRL': {'name': 'Brazilian real', 'sym...  População: 212559409   \n",
       "\n",
       "                  6                                                  7  \\\n",
       "0  Região: Americas  Time Zones: ['UTC-05:00', 'UTC-04:00', 'UTC-03...   \n",
       "\n",
       "                 8             9  \n",
       "0  Area: 8515767.0  ------------  "
      ]
     },
     "metadata": {},
     "output_type": "display_data"
    }
   ],
   "source": [
    "display(df)"
   ]
  },
  {
   "cell_type": "code",
   "execution_count": 83,
   "metadata": {},
   "outputs": [
    {
     "name": "stdout",
     "output_type": "stream",
     "text": [
      "INFO DO PAIS    object\n",
      "dtype: object\n"
     ]
    }
   ],
   "source": [
    "print(df.dtypes)"
   ]
  },
  {
   "cell_type": "code",
   "execution_count": 85,
   "metadata": {},
   "outputs": [
    {
     "ename": "AttributeError",
     "evalue": "'function' object has no attribute 'to_frame'",
     "output_type": "error",
     "traceback": [
      "\u001b[0;31m---------------------------------------------------------------------------\u001b[0m",
      "\u001b[0;31mAttributeError\u001b[0m                            Traceback (most recent call last)",
      "Cell \u001b[0;32mIn[85], line 1\u001b[0m\n\u001b[0;32m----> 1\u001b[0m \u001b[43mdf\u001b[49m\u001b[38;5;241;43m.\u001b[39;49m\u001b[43minfo\u001b[49m\u001b[38;5;241;43m.\u001b[39;49m\u001b[43mto_frame\u001b[49m()\u001b[38;5;241m.\u001b[39mt\n",
      "\u001b[0;31mAttributeError\u001b[0m: 'function' object has no attribute 'to_frame'"
     ]
    }
   ],
   "source": [
    "df.info.to_frame().t"
   ]
  },
  {
   "cell_type": "code",
   "execution_count": 2,
   "metadata": {},
   "outputs": [
    {
     "name": "stdout",
     "output_type": "stream",
     "text": [
      "Dados de USA obtidos com sucesso.\n",
      "Dados de Brazil obtidos com sucesso.\n"
     ]
    }
   ],
   "source": [
    "paises = [\"USA\", \"Brazil\"]\n",
    "dados_paises = {}\n",
    "\n",
    "for pais in paises:\n",
    "    link = f'https://restcountries.com/v3.1/name/{pais}'\n",
    "    requisicao = requests.get(link)\n",
    "    \n",
    "    if requisicao.status_code == 200:\n",
    "        requisicao_js = requisicao.json()\n",
    "        if isinstance(requisicao_js, list) and len(requisicao_js) > 0:\n",
    "            dados_paises[pais] = requisicao_js\n",
    "            print(f\"Dados de {pais} obtidos com sucesso.\")\n",
    "        else:\n",
    "            print(f\"Dados não encontrados para {pais}\")\n",
    "    else:\n",
    "        print(f\"Erro ao buscar dados para {pais}. Código de status: {requisicao.status_code}\")"
   ]
  },
  {
   "cell_type": "code",
   "execution_count": null,
   "metadata": {},
   "outputs": [],
   "source": [
    "timestamp = datetime.now().strftime('%Y%m%d')   \n",
    "# timestamp = datetime.datetime.utcfromtimestamp(timestamp).strftime('%Y%m%d%H%M%S')\n",
    "local = '/workspaces/api-temp/dados/'\n",
    "nome = f'dados_paises_{timestamp}.txt'\n",
    "\n",
    "nome_arquivo = local + nome"
   ]
  },
  {
   "cell_type": "code",
   "execution_count": 4,
   "metadata": {},
   "outputs": [
    {
     "name": "stdout",
     "output_type": "stream",
     "text": [
      "[{'name': {'common': 'United States', 'official': 'United States of America', 'nativeName': {'eng': {'official': 'United States of America', 'common': 'United States'}}}, 'tld': ['.us'], 'cca2': 'US', 'ccn3': '840', 'cca3': 'USA', 'cioc': 'USA', 'independent': True, 'status': 'officially-assigned', 'unMember': True, 'currencies': {'USD': {'name': 'United States dollar', 'symbol': '$'}}, 'idd': {'root': '+1', 'suffixes': ['201', '202', '203', '205', '206', '207', '208', '209', '210', '212', '213', '214', '215', '216', '217', '218', '219', '220', '224', '225', '227', '228', '229', '231', '234', '239', '240', '248', '251', '252', '253', '254', '256', '260', '262', '267', '269', '270', '272', '274', '276', '281', '283', '301', '302', '303', '304', '305', '307', '308', '309', '310', '312', '313', '314', '315', '316', '317', '318', '319', '320', '321', '323', '325', '327', '330', '331', '334', '336', '337', '339', '346', '347', '351', '352', '360', '361', '364', '380', '385', '386', '401', '402', '404', '405', '406', '407', '408', '409', '410', '412', '413', '414', '415', '417', '419', '423', '424', '425', '430', '432', '434', '435', '440', '442', '443', '447', '458', '463', '464', '469', '470', '475', '478', '479', '480', '484', '501', '502', '503', '504', '505', '507', '508', '509', '510', '512', '513', '515', '516', '517', '518', '520', '530', '531', '534', '539', '540', '541', '551', '559', '561', '562', '563', '564', '567', '570', '571', '573', '574', '575', '580', '585', '586', '601', '602', '603', '605', '606', '607', '608', '609', '610', '612', '614', '615', '616', '617', '618', '619', '620', '623', '626', '628', '629', '630', '631', '636', '641', '646', '650', '651', '657', '660', '661', '662', '667', '669', '678', '681', '682', '701', '702', '703', '704', '706', '707', '708', '712', '713', '714', '715', '716', '717', '718', '719', '720', '724', '725', '727', '730', '731', '732', '734', '737', '740', '743', '747', '754', '757', '760', '762', '763', '765', '769', '770', '772', '773', '774', '775', '779', '781', '785', '786', '801', '802', '803', '804', '805', '806', '808', '810', '812', '813', '814', '815', '816', '817', '818', '828', '830', '831', '832', '843', '845', '847', '848', '850', '854', '856', '857', '858', '859', '860', '862', '863', '864', '865', '870', '872', '878', '901', '903', '904', '906', '907', '908', '909', '910', '912', '913', '914', '915', '916', '917', '918', '919', '920', '925', '928', '929', '930', '931', '934', '936', '937', '938', '940', '941', '947', '949', '951', '952', '954', '956', '959', '970', '971', '972', '973', '975', '978', '979', '980', '984', '985', '989']}, 'capital': ['Washington, D.C.'], 'altSpellings': ['US', 'USA', 'United States of America'], 'region': 'Americas', 'subregion': 'North America', 'languages': {'eng': 'English'}, 'translations': {'ara': {'official': 'الولايات المتحدة الامريكية', 'common': 'الولايات المتحدة'}, 'bre': {'official': 'Stadoù-Unanet Amerika', 'common': 'Stadoù-Unanet'}, 'ces': {'official': 'Spojené státy americké', 'common': 'Spojené státy'}, 'cym': {'official': 'United States of America', 'common': 'United States'}, 'deu': {'official': 'Vereinigte Staaten von Amerika', 'common': 'Vereinigte Staaten'}, 'est': {'official': 'Ameerika Ühendriigid', 'common': 'Ameerika Ühendriigid'}, 'fin': {'official': 'Amerikan yhdysvallat', 'common': 'Yhdysvallat'}, 'fra': {'official': \"Les états-unis d'Amérique\", 'common': 'États-Unis'}, 'hrv': {'official': 'Sjedinjene Države Amerike', 'common': 'Sjedinjene Američke Države'}, 'hun': {'official': 'Amerikai Egyesült Államok', 'common': 'Amerikai Egyesült Államok'}, 'ita': {'official': \"Stati Uniti d'America\", 'common': \"Stati Uniti d'America\"}, 'jpn': {'official': 'アメリカ合衆国', 'common': 'アメリカ合衆国'}, 'kor': {'official': '아메리카 합중국', 'common': '미국'}, 'nld': {'official': 'Verenigde Staten van Amerika', 'common': 'Verenigde Staten'}, 'per': {'official': 'ایالات متحده آمریکا', 'common': 'ایالات متحده آمریکا'}, 'pol': {'official': 'Stany Zjednoczone Ameryki', 'common': 'Stany Zjednoczone'}, 'por': {'official': 'Estados Unidos da América', 'common': 'Estados Unidos'}, 'rus': {'official': 'Соединенные Штаты Америки', 'common': 'Соединённые Штаты Америки'}, 'slk': {'official': 'Spojené štáty Americké', 'common': 'Spojené štáty americké'}, 'spa': {'official': 'Estados Unidos de América', 'common': 'Estados Unidos'}, 'srp': {'official': 'Сједињене Америчке Државе', 'common': 'Сједињене Америчке Државе'}, 'swe': {'official': 'Amerikas förenta stater', 'common': 'USA'}, 'tur': {'official': 'Amerika Birleşik Devletleri', 'common': 'Amerika Birleşik Devletleri'}, 'urd': {'official': 'ریاستہائے متحدہ امریکا', 'common': 'ریاستہائے متحدہ'}, 'zho': {'official': '美利坚合众国', 'common': '美国'}}, 'latlng': [38.0, -97.0], 'landlocked': False, 'borders': ['CAN', 'MEX'], 'area': 9372610.0, 'demonyms': {'eng': {'f': 'American', 'm': 'American'}, 'fra': {'f': 'Américaine', 'm': 'Américain'}}, 'flag': '🇺🇸', 'maps': {'googleMaps': 'https://goo.gl/maps/e8M246zY4BSjkjAv6', 'openStreetMaps': 'https://www.openstreetmap.org/relation/148838#map=2/20.6/-85.8'}, 'population': 329484123, 'gini': {'2018': 41.4}, 'fifa': 'USA', 'car': {'signs': ['USA'], 'side': 'right'}, 'timezones': ['UTC-12:00', 'UTC-11:00', 'UTC-10:00', 'UTC-09:00', 'UTC-08:00', 'UTC-07:00', 'UTC-06:00', 'UTC-05:00', 'UTC-04:00', 'UTC+10:00', 'UTC+12:00'], 'continents': ['North America'], 'flags': {'png': 'https://flagcdn.com/w320/us.png', 'svg': 'https://flagcdn.com/us.svg', 'alt': 'The flag of the United States of America is composed of thirteen equal horizontal bands of red alternating with white. A blue rectangle, bearing fifty small five-pointed white stars arranged in nine rows where rows of six stars alternate with rows of five stars, is superimposed in the canton.'}, 'coatOfArms': {'png': 'https://mainfacts.com/media/images/coats_of_arms/us.png', 'svg': 'https://mainfacts.com/media/images/coats_of_arms/us.svg'}, 'startOfWeek': 'sunday', 'capitalInfo': {'latlng': [38.89, -77.05]}, 'postalCode': {'format': '#####-####', 'regex': '^\\\\d{5}(-\\\\d{4})?$'}}]\n",
      "[{'name': {'common': 'Brazil', 'official': 'Federative Republic of Brazil', 'nativeName': {'por': {'official': 'República Federativa do Brasil', 'common': 'Brasil'}}}, 'tld': ['.br'], 'cca2': 'BR', 'ccn3': '076', 'cca3': 'BRA', 'cioc': 'BRA', 'independent': True, 'status': 'officially-assigned', 'unMember': True, 'currencies': {'BRL': {'name': 'Brazilian real', 'symbol': 'R$'}}, 'idd': {'root': '+5', 'suffixes': ['5']}, 'capital': ['Brasília'], 'altSpellings': ['BR', 'Brasil', 'Federative Republic of Brazil', 'República Federativa do Brasil'], 'region': 'Americas', 'subregion': 'South America', 'languages': {'por': 'Portuguese'}, 'translations': {'ara': {'official': 'جمهورية البرازيل الاتحادية', 'common': 'البرازيل'}, 'bre': {'official': 'Republik Kevreel Brazil', 'common': 'Brazil'}, 'ces': {'official': 'Brazilská federativní republika', 'common': 'Brazílie'}, 'cym': {'official': 'Gweriniaeth Ffederal Brasil', 'common': 'Brasil'}, 'deu': {'official': 'Föderative Republik Brasilien', 'common': 'Brasilien'}, 'est': {'official': 'Brasiilia Liitvabariik', 'common': 'Brasiilia'}, 'fin': {'official': 'Brasilian liittotasavalta', 'common': 'Brasilia'}, 'fra': {'official': 'République fédérative du Brésil', 'common': 'Brésil'}, 'hrv': {'official': 'Savezne Republike Brazil', 'common': 'Brazil'}, 'hun': {'official': 'Brazil Szövetségi Köztársaság', 'common': 'Brazília'}, 'ita': {'official': 'Repubblica federativa del Brasile', 'common': 'Brasile'}, 'jpn': {'official': 'ブラジル連邦共和国', 'common': 'ブラジル'}, 'kor': {'official': '브라질 연방 공화국', 'common': '브라질'}, 'nld': {'official': 'Federale Republiek Brazilië', 'common': 'Brazilië'}, 'per': {'official': 'جمهوری فدراتیو برزیل', 'common': 'برزیل'}, 'pol': {'official': 'Federacyjna Republika Brazylii', 'common': 'Brazylia'}, 'por': {'official': 'República Federativa do Brasil', 'common': 'Brasil'}, 'rus': {'official': 'Федеративная Республика Бразилия', 'common': 'Бразилия'}, 'slk': {'official': 'Brazílska federatívna republika', 'common': 'Brazília'}, 'spa': {'official': 'República Federativa del Brasil', 'common': 'Brasil'}, 'srp': {'official': 'Савезна Република Бразил', 'common': 'Бразил'}, 'swe': {'official': 'Förbundsrepubliken Brasilien', 'common': 'Brasilien'}, 'tur': {'official': 'Brezilya Federal Cumhuriyeti', 'common': 'Brezilya'}, 'urd': {'official': 'وفاقی جمہوریہ برازیل', 'common': 'برازیل'}, 'zho': {'official': '巴西联邦共和国', 'common': '巴西'}}, 'latlng': [-10.0, -55.0], 'landlocked': False, 'borders': ['ARG', 'BOL', 'COL', 'GUF', 'GUY', 'PRY', 'PER', 'SUR', 'URY', 'VEN'], 'area': 8515767.0, 'demonyms': {'eng': {'f': 'Brazilian', 'm': 'Brazilian'}, 'fra': {'f': 'Brésilienne', 'm': 'Brésilien'}}, 'flag': '🇧🇷', 'maps': {'googleMaps': 'https://goo.gl/maps/waCKk21HeeqFzkNC9', 'openStreetMaps': 'https://www.openstreetmap.org/relation/59470'}, 'population': 212559409, 'gini': {'2019': 53.4}, 'fifa': 'BRA', 'car': {'signs': ['BR'], 'side': 'right'}, 'timezones': ['UTC-05:00', 'UTC-04:00', 'UTC-03:00', 'UTC-02:00'], 'continents': ['South America'], 'flags': {'png': 'https://flagcdn.com/w320/br.png', 'svg': 'https://flagcdn.com/br.svg', 'alt': \"The flag of Brazil has a green field with a large yellow rhombus in the center. Within the rhombus is a dark blue globe with twenty-seven small five-pointed white stars depicting a starry sky and a thin white convex horizontal band inscribed with the national motto 'Ordem e Progresso' across its center.\"}, 'coatOfArms': {'png': 'https://mainfacts.com/media/images/coats_of_arms/br.png', 'svg': 'https://mainfacts.com/media/images/coats_of_arms/br.svg'}, 'startOfWeek': 'monday', 'capitalInfo': {'latlng': [-15.79, -47.88]}, 'postalCode': {'format': '#####-###', 'regex': '^(\\\\d{8})$'}}]\n"
     ]
    }
   ],
   "source": [
    "for pais, dados in dados_paises.items():\n",
    "    print(dados)"
   ]
  },
  {
   "cell_type": "code",
   "execution_count": 8,
   "metadata": {},
   "outputs": [
    {
     "ename": "TypeError",
     "evalue": "list indices must be integers or slices, not str",
     "output_type": "error",
     "traceback": [
      "\u001b[0;31m---------------------------------------------------------------------------\u001b[0m",
      "\u001b[0;31mTypeError\u001b[0m                                 Traceback (most recent call last)",
      "Cell \u001b[0;32mIn[8], line 1\u001b[0m\n\u001b[0;32m----> 1\u001b[0m paises \u001b[38;5;241m=\u001b[39m \u001b[43mrequisicao_js\u001b[49m\u001b[43m[\u001b[49m\u001b[38;5;124;43m'\u001b[39;49m\u001b[38;5;124;43mcommon\u001b[39;49m\u001b[38;5;124;43m'\u001b[39;49m\u001b[43m]\u001b[49m[\u001b[38;5;241m0\u001b[39m]\n\u001b[1;32m      2\u001b[0m \u001b[38;5;28mprint\u001b[39m(paises)\n",
      "\u001b[0;31mTypeError\u001b[0m: list indices must be integers or slices, not str"
     ]
    }
   ],
   "source": [
    "paises = requisicao_js['common'][0]\n",
    "print(paises)"
   ]
  },
  {
   "cell_type": "code",
   "execution_count": 6,
   "metadata": {},
   "outputs": [
    {
     "data": {
      "text/html": [
       "<div>\n",
       "<style scoped>\n",
       "    .dataframe tbody tr th:only-of-type {\n",
       "        vertical-align: middle;\n",
       "    }\n",
       "\n",
       "    .dataframe tbody tr th {\n",
       "        vertical-align: top;\n",
       "    }\n",
       "\n",
       "    .dataframe thead th {\n",
       "        text-align: right;\n",
       "    }\n",
       "</style>\n",
       "<table border=\"1\" class=\"dataframe\">\n",
       "  <thead>\n",
       "    <tr style=\"text-align: right;\">\n",
       "      <th></th>\n",
       "      <th>name</th>\n",
       "      <th>tld</th>\n",
       "      <th>cca2</th>\n",
       "      <th>ccn3</th>\n",
       "      <th>cca3</th>\n",
       "      <th>cioc</th>\n",
       "      <th>independent</th>\n",
       "      <th>status</th>\n",
       "      <th>unMember</th>\n",
       "      <th>currencies</th>\n",
       "      <th>...</th>\n",
       "      <th>gini</th>\n",
       "      <th>fifa</th>\n",
       "      <th>car</th>\n",
       "      <th>timezones</th>\n",
       "      <th>continents</th>\n",
       "      <th>flags</th>\n",
       "      <th>coatOfArms</th>\n",
       "      <th>startOfWeek</th>\n",
       "      <th>capitalInfo</th>\n",
       "      <th>postalCode</th>\n",
       "    </tr>\n",
       "  </thead>\n",
       "  <tbody>\n",
       "    <tr>\n",
       "      <th>0</th>\n",
       "      <td>{'common': 'Brazil', 'official': 'Federative R...</td>\n",
       "      <td>[.br]</td>\n",
       "      <td>BR</td>\n",
       "      <td>076</td>\n",
       "      <td>BRA</td>\n",
       "      <td>BRA</td>\n",
       "      <td>True</td>\n",
       "      <td>officially-assigned</td>\n",
       "      <td>True</td>\n",
       "      <td>{'BRL': {'name': 'Brazilian real', 'symbol': '...</td>\n",
       "      <td>...</td>\n",
       "      <td>{'2019': 53.4}</td>\n",
       "      <td>BRA</td>\n",
       "      <td>{'signs': ['BR'], 'side': 'right'}</td>\n",
       "      <td>[UTC-05:00, UTC-04:00, UTC-03:00, UTC-02:00]</td>\n",
       "      <td>[South America]</td>\n",
       "      <td>{'png': 'https://flagcdn.com/w320/br.png', 'sv...</td>\n",
       "      <td>{'png': 'https://mainfacts.com/media/images/co...</td>\n",
       "      <td>monday</td>\n",
       "      <td>{'latlng': [-15.79, -47.88]}</td>\n",
       "      <td>{'format': '#####-###', 'regex': '^(\\d{8})$'}</td>\n",
       "    </tr>\n",
       "  </tbody>\n",
       "</table>\n",
       "<p>1 rows × 35 columns</p>\n",
       "</div>"
      ],
      "text/plain": [
       "                                                name    tld cca2 ccn3 cca3  \\\n",
       "0  {'common': 'Brazil', 'official': 'Federative R...  [.br]   BR  076  BRA   \n",
       "\n",
       "  cioc  independent               status  unMember  \\\n",
       "0  BRA         True  officially-assigned      True   \n",
       "\n",
       "                                          currencies  ...            gini  \\\n",
       "0  {'BRL': {'name': 'Brazilian real', 'symbol': '...  ...  {'2019': 53.4}   \n",
       "\n",
       "  fifa                                 car  \\\n",
       "0  BRA  {'signs': ['BR'], 'side': 'right'}   \n",
       "\n",
       "                                      timezones       continents  \\\n",
       "0  [UTC-05:00, UTC-04:00, UTC-03:00, UTC-02:00]  [South America]   \n",
       "\n",
       "                                               flags  \\\n",
       "0  {'png': 'https://flagcdn.com/w320/br.png', 'sv...   \n",
       "\n",
       "                                          coatOfArms startOfWeek  \\\n",
       "0  {'png': 'https://mainfacts.com/media/images/co...      monday   \n",
       "\n",
       "                    capitalInfo                                     postalCode  \n",
       "0  {'latlng': [-15.79, -47.88]}  {'format': '#####-###', 'regex': '^(\\d{8})$'}  \n",
       "\n",
       "[1 rows x 35 columns]"
      ]
     },
     "metadata": {},
     "output_type": "display_data"
    }
   ],
   "source": [
    "df = pd.DataFrame(dados)\n",
    "display(df)"
   ]
  },
  {
   "cell_type": "code",
   "execution_count": null,
   "metadata": {},
   "outputs": [],
   "source": [
    "for pais, dados in dados_paises.items():\n",
    "    with open(nome_arquivo, 'w') as arquivo:\n",
    "        json.dump(dados_paises, arquivo, indent=4)\n",
    "        print(f\"{pais}:\")\n",
    "        print(dados)"
   ]
  }
 ],
 "metadata": {
  "kernelspec": {
   "display_name": "Python 3",
   "language": "python",
   "name": "python3"
  },
  "language_info": {
   "codemirror_mode": {
    "name": "ipython",
    "version": 3
   },
   "file_extension": ".py",
   "mimetype": "text/x-python",
   "name": "python",
   "nbconvert_exporter": "python",
   "pygments_lexer": "ipython3",
   "version": "3.10.13"
  }
 },
 "nbformat": 4,
 "nbformat_minor": 2
}
